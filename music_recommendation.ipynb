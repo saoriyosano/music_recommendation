{
 "cells": [
  {
   "cell_type": "code",
   "execution_count": 15,
   "metadata": {},
   "outputs": [],
   "source": [
    "import numpy as np\n",
    "import pandas as pd\n",
    "import sqlite3\n",
    "from annoy import AnnoyIndex\n",
    "import requests\n",
    "import os\n",
    "import base64"
   ]
  },
  {
   "cell_type": "code",
   "execution_count": 21,
   "metadata": {},
   "outputs": [],
   "source": [
    "%load_ext autoreload\n",
    "%autoreload 2"
   ]
  },
  {
   "attachments": {},
   "cell_type": "markdown",
   "metadata": {},
   "source": [
    "### Data Preparation\n",
    "\n",
    "- Ran data_preparation.sql on spotify.sqlite and add 'tracks_info' table to the sql database"
   ]
  },
  {
   "attachments": {},
   "cell_type": "markdown",
   "metadata": {},
   "source": [
    "# Test run with subset of the dataset (10,000 tracks)"
   ]
  },
  {
   "cell_type": "code",
   "execution_count": 2,
   "metadata": {},
   "outputs": [],
   "source": [
    "data_path = 'data/spotify.sqlite'\n",
    "conn = sqlite3.connect(data_path)\n",
    "# conn.text_factory = lambda b: b.decode(errors = 'ignore')\n",
    "cursor = conn.cursor()"
   ]
  },
  {
   "cell_type": "code",
   "execution_count": 3,
   "metadata": {},
   "outputs": [
    {
     "name": "stdout",
     "output_type": "stream",
     "text": [
      "Query executed\n"
     ]
    }
   ],
   "source": [
    "query = '''\n",
    "    SELECT *\n",
    "    FROM tracks_info ti\n",
    "'''\n",
    "cursor.execute(query)\n",
    "print(\"Query executed\")"
   ]
  },
  {
   "cell_type": "code",
   "execution_count": 4,
   "metadata": {},
   "outputs": [],
   "source": [
    "index = AnnoyIndex(12, metric='angular')\n",
    "index.set_seed(12)"
   ]
  },
  {
   "cell_type": "code",
   "execution_count": 5,
   "metadata": {},
   "outputs": [],
   "source": [
    "for i in range(0, 8740043):\n",
    "    batch = cursor.fetchmany(1)[0][4:]\n",
    "    index.add_item(i, batch)\n",
    "    if i == 10000:\n",
    "        break"
   ]
  },
  {
   "cell_type": "code",
   "execution_count": 6,
   "metadata": {},
   "outputs": [
    {
     "data": {
      "text/plain": [
       "True"
      ]
     },
     "execution_count": 6,
     "metadata": {},
     "output_type": "execute_result"
    }
   ],
   "source": [
    "index.build(10, n_jobs=-1)"
   ]
  },
  {
   "cell_type": "code",
   "execution_count": 7,
   "metadata": {},
   "outputs": [
    {
     "data": {
      "text/plain": [
       "True"
      ]
     },
     "execution_count": 7,
     "metadata": {},
     "output_type": "execute_result"
    }
   ],
   "source": [
    "index.save('230329-test-10000_tracks.ann')"
   ]
  },
  {
   "attachments": {},
   "cell_type": "markdown",
   "metadata": {},
   "source": [
    "# Get audio features of a song from Spotify"
   ]
  },
  {
   "cell_type": "code",
   "execution_count": 22,
   "metadata": {},
   "outputs": [],
   "source": [
    "a = os.environ.get('CLIENT_IDS')"
   ]
  },
  {
   "cell_type": "code",
   "execution_count": 23,
   "metadata": {},
   "outputs": [],
   "source": [
    "a"
   ]
  },
  {
   "cell_type": "code",
   "execution_count": 16,
   "metadata": {},
   "outputs": [
    {
     "ename": "TypeError",
     "evalue": "a bytes-like object is required, not 'NoneType'",
     "output_type": "error",
     "traceback": [
      "\u001b[0;31m---------------------------------------------------------------------------\u001b[0m",
      "\u001b[0;31mTypeError\u001b[0m                                 Traceback (most recent call last)",
      "Cell \u001b[0;32mIn[16], line 4\u001b[0m\n\u001b[1;32m      1\u001b[0m auth_url \u001b[39m=\u001b[39m \u001b[39m'\u001b[39m\u001b[39mhttps://accounts.spotify.com/api/token\u001b[39m\u001b[39m'\u001b[39m\n\u001b[1;32m      2\u001b[0m param \u001b[39m=\u001b[39m {\u001b[39m'\u001b[39m\u001b[39mgrant_type\u001b[39m\u001b[39m'\u001b[39m: \u001b[39m'\u001b[39m\u001b[39mclient_credentials\u001b[39m\u001b[39m'\u001b[39m}\n\u001b[1;32m      3\u001b[0m auth_headers \u001b[39m=\u001b[39m {\n\u001b[0;32m----> 4\u001b[0m     \u001b[39m'\u001b[39m\u001b[39mAuthorization\u001b[39m\u001b[39m'\u001b[39m: \u001b[39mf\u001b[39m\u001b[39m\"\u001b[39m\u001b[39mBasic \u001b[39m\u001b[39m{\u001b[39;00mbase64\u001b[39m.\u001b[39;49mb64encode(os\u001b[39m.\u001b[39;49menviron\u001b[39m.\u001b[39;49mget(\u001b[39m'\u001b[39;49m\u001b[39mCLIENT_ID\u001b[39;49m\u001b[39m'\u001b[39;49m))\u001b[39m}\u001b[39;00m\u001b[39m:\u001b[39m\u001b[39m{\u001b[39;00mbase64\u001b[39m.\u001b[39mb64encode(os\u001b[39m.\u001b[39menviron\u001b[39m.\u001b[39mget(\u001b[39m'\u001b[39m\u001b[39mCLIENT_SECRET\u001b[39m\u001b[39m'\u001b[39m))\u001b[39m}\u001b[39;00m\u001b[39m\"\u001b[39m,\n\u001b[1;32m      5\u001b[0m     \u001b[39m'\u001b[39m\u001b[39mContent-Type\u001b[39m\u001b[39m'\u001b[39m: \u001b[39m'\u001b[39m\u001b[39mapplication/x-www-form-urlencoded\u001b[39m\u001b[39m'\u001b[39m\n\u001b[1;32m      6\u001b[0m }\n",
      "File \u001b[0;32m~/.pyenv/versions/3.10.6/lib/python3.10/base64.py:58\u001b[0m, in \u001b[0;36mb64encode\u001b[0;34m(s, altchars)\u001b[0m\n\u001b[1;32m     51\u001b[0m \u001b[39mdef\u001b[39;00m \u001b[39mb64encode\u001b[39m(s, altchars\u001b[39m=\u001b[39m\u001b[39mNone\u001b[39;00m):\n\u001b[1;32m     52\u001b[0m \u001b[39m    \u001b[39m\u001b[39m\"\"\"Encode the bytes-like object s using Base64 and return a bytes object.\u001b[39;00m\n\u001b[1;32m     53\u001b[0m \n\u001b[1;32m     54\u001b[0m \u001b[39m    Optional altchars should be a byte string of length 2 which specifies an\u001b[39;00m\n\u001b[1;32m     55\u001b[0m \u001b[39m    alternative alphabet for the '+' and '/' characters.  This allows an\u001b[39;00m\n\u001b[1;32m     56\u001b[0m \u001b[39m    application to e.g. generate url or filesystem safe Base64 strings.\u001b[39;00m\n\u001b[1;32m     57\u001b[0m \u001b[39m    \"\"\"\u001b[39;00m\n\u001b[0;32m---> 58\u001b[0m     encoded \u001b[39m=\u001b[39m binascii\u001b[39m.\u001b[39;49mb2a_base64(s, newline\u001b[39m=\u001b[39;49m\u001b[39mFalse\u001b[39;49;00m)\n\u001b[1;32m     59\u001b[0m     \u001b[39mif\u001b[39;00m altchars \u001b[39mis\u001b[39;00m \u001b[39mnot\u001b[39;00m \u001b[39mNone\u001b[39;00m:\n\u001b[1;32m     60\u001b[0m         \u001b[39massert\u001b[39;00m \u001b[39mlen\u001b[39m(altchars) \u001b[39m==\u001b[39m \u001b[39m2\u001b[39m, \u001b[39mrepr\u001b[39m(altchars)\n",
      "\u001b[0;31mTypeError\u001b[0m: a bytes-like object is required, not 'NoneType'"
     ]
    }
   ],
   "source": [
    "    auth_url = 'https://accounts.spotify.com/api/token'\n",
    "    param = {'grant_type': 'client_credentials'}\n",
    "    auth_headers = {\n",
    "        'Authorization': f\"Basic {base64.b64encode(os.environ.get('CLIENT_ID'))}:{base64.b64encode(os.environ.get('CLIENT_SECRET'))}\",\n",
    "        'Content-Type': 'application/x-www-form-urlencoded'\n",
    "    }"
   ]
  },
  {
   "cell_type": "code",
   "execution_count": null,
   "metadata": {},
   "outputs": [],
   "source": []
  },
  {
   "cell_type": "code",
   "execution_count": 9,
   "metadata": {},
   "outputs": [],
   "source": [
    "def search_song(track=None, artist=None, album=None):\n",
    "    # get credentials\n",
    "    auth_url = 'https://accounts.spotify.com/api/token'\n",
    "    auth_headers = {\n",
    "        'Authorization': f\"Basic {base64.b64encode(CLIENT_ID)}:{base64.b64encode(CLIENT_SECRET)}\",\n",
    "        'Content-Type': 'application/x-www-form-urlencoded'\n",
    "    }\n",
    "    \n",
    "    q = ''\n",
    "    if track:\n",
    "        q += \"track:{track}\"\n",
    "    params = {\n",
    "        'track': track, \n",
    "        'artist': artist,\n",
    "        'album': album\n",
    "    }\n",
    "    url = 'https://api.spotify.com/v1/search'\n",
    "    response = requests.get(url).json()"
   ]
  },
  {
   "cell_type": "code",
   "execution_count": null,
   "metadata": {},
   "outputs": [],
   "source": [
    "search_song(track='Hello')"
   ]
  }
 ],
 "metadata": {
  "kernelspec": {
   "display_name": "music_recommendation",
   "language": "python",
   "name": "python3"
  },
  "language_info": {
   "codemirror_mode": {
    "name": "ipython",
    "version": 3
   },
   "file_extension": ".py",
   "mimetype": "text/x-python",
   "name": "python",
   "nbconvert_exporter": "python",
   "pygments_lexer": "ipython3",
   "version": "3.10.6"
  },
  "orig_nbformat": 4
 },
 "nbformat": 4,
 "nbformat_minor": 2
}
